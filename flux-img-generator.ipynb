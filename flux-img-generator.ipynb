{
  "cells": [
    {
      "cell_type": "markdown",
      "metadata": {
        "id": "view-in-github",
        "colab_type": "text"
      },
      "source": [
        "<a href=\"https://colab.research.google.com/github/CryptoManiacMS/colab/blob/main/flux-img-generator.ipynb\" target=\"_parent\"><img src=\"https://colab.research.google.com/assets/colab-badge.svg\" alt=\"Open In Colab\"/></a>"
      ]
    },
    {
      "cell_type": "markdown",
      "source": [
        "# 🚀 STEP 1"
      ],
      "metadata": {
        "id": "8Skldjh31Gj7"
      }
    },
    {
      "cell_type": "code",
      "source": [
        "# ✅ Remove qualquer versão antiga ou corrompida do repositório\n",
        "!rm -rf /content/TotoroUI\n",
        "\n",
        "# ✅ Remove possíveis restos bugados do torch\n",
        "!rm -rf /usr/local/lib/python3.11/dist-packages/~orch*\n",
        "\n",
        "# ✅ Limpa cache do pip (boa prática no Colab)\n",
        "!pip cache purge"
      ],
      "metadata": {
        "colab": {
          "base_uri": "https://localhost:8080/"
        },
        "id": "Fo6i7Kdj0zYN",
        "outputId": "82973f0c-577f-40a1-c475-8bb37e99c439"
      },
      "execution_count": 1,
      "outputs": [
        {
          "output_type": "stream",
          "name": "stdout",
          "text": [
            "Files removed: 18\n"
          ]
        }
      ]
    },
    {
      "cell_type": "markdown",
      "source": [
        "## 🚀 STEP 2\n",
        "\n",
        "### Reinicie o ambiente de execução neste ponto!\n",
        "### > Menu: Ambiente de execução > Reiniciar ambiente de execução\n",
        "### ✅ Depois que o ambiente reiniciar, volte aqui e rode tudo abaixo:"
      ],
      "metadata": {
        "id": "23FBCpHZ5pLx"
      }
    },
    {
      "cell_type": "code",
      "source": [
        "# ✅ Clona o repositório limpo\n",
        "%cd /content\n",
        "!git clone -b totoro3 https://github.com/camenduru/ComfyUI /content/TotoroUI\n",
        "%cd /content/TotoroUI\n",
        "\n",
        "# ✅ Instala as dependências corretas (versões compatíveis)\n",
        "!pip install -q torch==2.5.0 torchvision==0.20.0 torchaudio==2.5.0 \\\n",
        "  torchsde einops diffusers accelerate xformers==0.0.28.post2\n",
        "\n",
        "# ✅ Instala o aria2 para fazer downloads rápidos dos modelos\n",
        "!apt -y install -qq aria2\n",
        "\n",
        "# ✅ Baixa os modelos necessários\n",
        "!aria2c --console-log-level=error -c -x 16 -s 16 -k 1M \\\n",
        "  https://huggingface.co/camenduru/FLUX.1-dev/resolve/main/flux1-dev-fp8.safetensors \\\n",
        "  -d /content/TotoroUI/models/unet -o flux1-dev-fp8.safetensors\n",
        "\n",
        "!aria2c --console-log-level=error -c -x 16 -s 16 -k 1M \\\n",
        "  https://huggingface.co/camenduru/FLUX.1-dev/resolve/main/ae.sft \\\n",
        "  -d /content/TotoroUI/models/vae -o ae.sft\n",
        "\n",
        "!aria2c --console-log-level=error -c -x 16 -s 16 -k 1M \\\n",
        "  https://huggingface.co/camenduru/FLUX.1-dev/resolve/main/clip_l.safetensors \\\n",
        "  -d /content/TotoroUI/models/clip -o clip_l.safetensors\n",
        "\n",
        "!aria2c --console-log-level=error -c -x 16 -s 16 -k 1M \\\n",
        "  https://huggingface.co/camenduru/FLUX.1-dev/resolve/main/t5xxl_fp8_e4m3fn.safetensors \\\n",
        "  -d /content/TotoroUI/models/clip -o t5xxl_fp8_e4m3fn.safetensors\n"
      ],
      "metadata": {
        "colab": {
          "base_uri": "https://localhost:8080/"
        },
        "id": "IyheiyS-5xTT",
        "outputId": "d337b405-38dd-4b2a-d874-ffa4bcc0d7c6"
      },
      "execution_count": 2,
      "outputs": [
        {
          "output_type": "stream",
          "name": "stdout",
          "text": [
            "/content\n",
            "Cloning into '/content/TotoroUI'...\n",
            "remote: Enumerating objects: 14652, done.\u001b[K\n",
            "remote: Total 14652 (delta 0), reused 0 (delta 0), pack-reused 14652 (from 1)\u001b[K\n",
            "Receiving objects: 100% (14652/14652), 21.12 MiB | 23.58 MiB/s, done.\n",
            "Resolving deltas: 100% (9825/9825), done.\n",
            "/content/TotoroUI\n",
            "aria2 is already the newest version (1.36.0-1).\n",
            "0 upgraded, 0 newly installed, 0 to remove and 35 not upgraded.\n",
            " *** Download Progress Summary as of Thu Jun 19 06:40:07 2025 *** \n",
            "=\n",
            "[#3d1c25 7.2GiB/11GiB(65%) CN:16 DL:160MiB ETA:24s]\n",
            "FILE: /content/TotoroUI/models/unet/flux1-dev-fp8.safetensors\n",
            "-\n",
            "\n",
            "\u001b[0m\n",
            "Download Results:\n",
            "gid   |stat|avg speed  |path/URI\n",
            "======+====+===========+=======================================================\n",
            "3d1c25|\u001b[1;32mOK\u001b[0m  |   146MiB/s|/content/TotoroUI/models/unet/flux1-dev-fp8.safetensors\n",
            "\n",
            "Status Legend:\n",
            "(OK):download completed.\n",
            "\u001b[0m\n",
            "Download Results:\n",
            "gid   |stat|avg speed  |path/URI\n",
            "======+====+===========+=======================================================\n",
            "6d41cd|\u001b[1;32mOK\u001b[0m  |   124MiB/s|/content/TotoroUI/models/vae/ae.sft\n",
            "\n",
            "Status Legend:\n",
            "(OK):download completed.\n",
            "\u001b[0m\n",
            "Download Results:\n",
            "gid   |stat|avg speed  |path/URI\n",
            "======+====+===========+=======================================================\n",
            "36e6d5|\u001b[1;32mOK\u001b[0m  |   271MiB/s|/content/TotoroUI/models/clip/clip_l.safetensors\n",
            "\n",
            "Status Legend:\n",
            "(OK):download completed.\n",
            "\u001b[0m\n",
            "Download Results:\n",
            "gid   |stat|avg speed  |path/URI\n",
            "======+====+===========+=======================================================\n",
            "aec8bb|\u001b[1;32mOK\u001b[0m  |   148MiB/s|/content/TotoroUI/models/clip/t5xxl_fp8_e4m3fn.safetensors\n",
            "\n",
            "Status Legend:\n",
            "(OK):download completed.\n"
          ]
        }
      ]
    },
    {
      "cell_type": "markdown",
      "source": [
        "# 🚀 STEP 3"
      ],
      "metadata": {
        "id": "22thQOiK2L9f"
      }
    },
    {
      "cell_type": "code",
      "source": [
        "# Vai para a pasta do projeto\n",
        "%cd /content/TotoroUI\n",
        "\n",
        "# Importa os módulos necessários\n",
        "import random\n",
        "import torch\n",
        "import numpy as np\n",
        "from PIL import Image\n",
        "import nodes\n",
        "from nodes import NODE_CLASS_MAPPINGS\n",
        "from totoro_extras import nodes_custom_sampler\n",
        "from totoro import model_management\n",
        "from IPython.display import display\n",
        "\n",
        "# Prepara os loaders\n",
        "DualCLIPLoader = NODE_CLASS_MAPPINGS[\"DualCLIPLoader\"]()\n",
        "UNETLoader = NODE_CLASS_MAPPINGS[\"UNETLoader\"]()\n",
        "RandomNoise = nodes_custom_sampler.NODE_CLASS_MAPPINGS[\"RandomNoise\"]()\n",
        "BasicGuider = nodes_custom_sampler.NODE_CLASS_MAPPINGS[\"BasicGuider\"]()\n",
        "KSamplerSelect = nodes_custom_sampler.NODE_CLASS_MAPPINGS[\"KSamplerSelect\"]()\n",
        "BasicScheduler = nodes_custom_sampler.NODE_CLASS_MAPPINGS[\"BasicScheduler\"]()\n",
        "SamplerCustomAdvanced = nodes_custom_sampler.NODE_CLASS_MAPPINGS[\"SamplerCustomAdvanced\"]()\n",
        "VAELoader = NODE_CLASS_MAPPINGS[\"VAELoader\"]()\n",
        "VAEDecode = NODE_CLASS_MAPPINGS[\"VAEDecode\"]()\n",
        "EmptyLatentImage = NODE_CLASS_MAPPINGS[\"EmptyLatentImage\"]()\n",
        "\n",
        "# Carrega os modelos\n",
        "with torch.inference_mode():\n",
        "    clip = DualCLIPLoader.load_clip(\"t5xxl_fp8_e4m3fn.safetensors\", \"clip_l.safetensors\", \"flux\")[0]\n",
        "    unet = UNETLoader.load_unet(\"flux1-dev-fp8.safetensors\", \"fp8_e4m3fn\")[0]\n",
        "    vae = VAELoader.load_vae(\"ae.sft\")[0]\n",
        "\n",
        "# Função auxiliar pra garantir tamanho múltiplo de 16\n",
        "def closestNumber(n, m):\n",
        "    q = int(n / m)\n",
        "    n1 = m * q\n",
        "    n2 = m * (q + 1) if (n * m) > 0 else m * (q - 1)\n",
        "    return n1 if abs(n - n1) < abs(n - n2) else n2"
      ],
      "metadata": {
        "colab": {
          "base_uri": "https://localhost:8080/"
        },
        "id": "VFY_BdIzzJB9",
        "outputId": "b502a8b9-2bf7-4979-db72-d9f42641c604"
      },
      "execution_count": 3,
      "outputs": [
        {
          "output_type": "stream",
          "name": "stdout",
          "text": [
            "/content/TotoroUI\n"
          ]
        },
        {
          "output_type": "stream",
          "name": "stderr",
          "text": [
            "WARNING:root:clip missing: ['text_projection.weight']\n"
          ]
        }
      ]
    },
    {
      "cell_type": "markdown",
      "source": [
        "# 🚀 STEP 4\n",
        "\n",
        "## Configurações:\n",
        "\n",
        "- positive_prompt: Aqui você insere o prompt desejado\n",
        "- width, height: Dimensões da imagem a ser gerada\n",
        "- steps: Quantidade de etapas de refinamento\n",
        "  - 10~20 steps → rápido, rascunho ou testes.\n",
        "  - 30~50 steps → boa qualidade geral.\n",
        "  - 60~100+ steps → alta qualidade, mas demora mais.\n",
        "\n",
        "- sampler_name:\n",
        "\n",
        "| Nome              | O que faz                                                  | Quando usar                                                         |\n",
        "| ----------------- | ---------------------------------------------------------- | ------------------------------------------------------------------- |\n",
        "| `euler`           | Simples e rápido. Boa qualidade, linhas mais suaves.       | Uso geral, imagens que não precisam de muitos detalhes finos.       |\n",
        "| `euler_ancestral` | Mais aleatório, resultados mais variados e criativos.      | Quando quer diversidade nas saídas.                                 |\n",
        "| `heun`            | Variante do Euler, mais estável.                           | Para gerar imagens consistentes e detalhadas.                       |\n",
        "| `lms`             | Linear multistep, bom para detalhes e precisão.            | Quando quer alta fidelidade ao prompt.                              |\n",
        "| `dpm_2`           | Difusion probabilística, 2ª ordem. Mais preciso que Euler. | Boa escolha para alta qualidade em menos steps.                     |\n",
        "| `dpm_2_ancestral` | Versão ancestral do DPM 2, mais diversidade no output.     | Para resultados mais criativos.                                     |\n",
        "| `dpm_fast`        | Focado em performance, gera mais rápido.                   | Quando quer testar rápido sem se importar com a qualidade final.    |\n",
        "| `dpm_adaptive`    | Ajusta dinamicamente o passo da difusão.                   | Quando quer otimização automática, especialmente em alta resolução. |\n",
        "\n",
        "\n",
        "- scheduler\n",
        "\n",
        "| Nome          | O que faz                         | Quando usar                             |\n",
        "| ------------- | --------------------------------- | --------------------------------------- |\n",
        "| `simple`      | Linear simples, padrão no Totoro. | Quase sempre serve bem.                 |\n",
        "| `exponential` | Decaimento exponencial do ruído.  | Para outputs mais suaves.               |\n",
        "| `polynomial`  | Curva polinomial para ruído.      | Para ajustes finos em detalhes.         |\n",
        "| `cosine`      | Variação em formato de onda.      | Para detalhes complexos ou luz natural. |\n",
        "| `karras`      | Baseado nos métodos de Karras.    | Alta qualidade em menos steps.          |\n",
        "\n",
        "\n",
        "<br><br>\n",
        "# 💡Dicas de uso\n",
        "\n",
        "| Sampler           | Scheduler    | Quando usar                              | Dica extra                                           |\n",
        "| ----------------- | ------------ | ---------------------------------------- | ---------------------------------------------------- |\n",
        "| `euler`           | `simple`     | Rápido, boa qualidade geral              | Comece por aqui pra ajustes básicos no prompt        |\n",
        "| `euler_ancestral` | `cosine`     | Criatividade e variação                  | Ótimo pra cenas artísticas e concept art             |\n",
        "| `heun`            | `karras`     | Detalhes nítidos, estabilidade           | Use em retratos e close-ups                          |\n",
        "| `dpm_2`           | `polynomial` | Alta fidelidade ao prompt                | Bom pra gerar logos, textos, imagens clean           |\n",
        "| `dpm_2_ancestral` | `cosine`     | Criativo + detalhado                     | Ideal pra cenários complexos e iluminação realista   |\n",
        "| `dpm_adaptive`    | `karras`     | Otimização e qualidade em alta resolução | Para gerar grandes imagens sem precisar muitos steps |\n",
        "| `dpm_fast`        | `simple`     | Testes rápidos                           | Só pra preview, qualidade menor                      |\n"
      ],
      "metadata": {
        "id": "Uj5mntMs3V0i"
      }
    },
    {
      "cell_type": "code",
      "execution_count": null,
      "metadata": {
        "colab": {
          "base_uri": "https://localhost:8080/",
          "height": 66,
          "referenced_widgets": [
            "bfb0ac9a99b944fd9905ccc1359de1c8",
            "2265a7f2489e4e9ba5c56384e3229e7b",
            "63ec732cb559450999b92a71c2892314",
            "c5a70624e8094262af103b782a395bf0",
            "5e1951a78bc14b97b6b512950a1dbf39",
            "82ffe52afe124af78eb8c08bfb3c43ae",
            "77d019c6e56945af9cabbae51b77b924",
            "89d77701c4664d2ab65ab96fe3c29dff",
            "af67e7bfc6a9458f8c7aeb2954e207e3",
            "8a26f17d57604cd5aca50e5bf7e595f7",
            "ec05eefedf6348908f5652ed1db009b3"
          ]
        },
        "id": "B-dkyBJMpqkO",
        "outputId": "12a4972f-a2e6-4f7f-8a1a-f83e3b5d5058"
      },
      "outputs": [
        {
          "output_type": "stream",
          "name": "stdout",
          "text": [
            "Seed usado: 6124618576940335289\n"
          ]
        },
        {
          "output_type": "display_data",
          "data": {
            "text/plain": [
              "  0%|          | 0/20 [00:00<?, ?it/s]"
            ],
            "application/vnd.jupyter.widget-view+json": {
              "version_major": 2,
              "version_minor": 0,
              "model_id": "bfb0ac9a99b944fd9905ccc1359de1c8"
            }
          },
          "metadata": {}
        }
      ],
      "source": [
        "# Gera a imagem\n",
        "with torch.inference_mode():\n",
        "    positive_prompt = \"Realistic portrait of a young woman around 23 years old, light brown skin, oval face, long straight dark brown hair, large dark brown eyes, full pink lips, soft and confident expression, natural sunset lighting, blurred beach or cloudy sky background. High-resolution photography style.\"\n",
        "    width = 512\n",
        "    height = 512\n",
        "    sampler_name = \"euler\"\n",
        "    scheduler = \"simple\"\n",
        "    seed = random.randint(0, 18446744073709551615)\n",
        "    steps = 20\n",
        "\n",
        "    print(f\"Seed usado: {seed}\")\n",
        "\n",
        "    cond, pooled = clip.encode_from_tokens(clip.tokenize(positive_prompt), return_pooled=True)\n",
        "    cond = [[cond, {\"pooled_output\": pooled}]]\n",
        "\n",
        "    noise = RandomNoise.get_noise(seed)[0]\n",
        "    guider = BasicGuider.get_guider(unet, cond)[0]\n",
        "    sampler = KSamplerSelect.get_sampler(sampler_name)[0]\n",
        "    sigmas = BasicScheduler.get_sigmas(unet, scheduler, steps, 1.0)[0]\n",
        "    latent_image = EmptyLatentImage.generate(closestNumber(width, 16), closestNumber(height, 16))[0]\n",
        "    sample, sample_denoised = SamplerCustomAdvanced.sample(noise, guider, sampler, sigmas, latent_image)\n",
        "\n",
        "    model_management.soft_empty_cache()\n",
        "\n",
        "    decoded = VAEDecode.decode(vae, sample)[0].detach()\n",
        "\n",
        "    # Salva a imagem\n",
        "    Image.fromarray(np.array(decoded * 255, dtype=np.uint8)[0]).save(\"/content/flux.png\")\n",
        "\n",
        "    # Exibe no notebook\n",
        "    display(Image.fromarray(np.array(decoded * 255, dtype=np.uint8)[0]))"
      ]
    }
  ],
  "metadata": {
    "accelerator": "GPU",
    "colab": {
      "gpuType": "T4",
      "provenance": [],
      "include_colab_link": true
    },
    "kernelspec": {
      "display_name": "Python 3",
      "name": "python3"
    },
    "language_info": {
      "name": "python"
    }
  },
  "nbformat": 4,
  "nbformat_minor": 0
}
